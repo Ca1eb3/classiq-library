{
 "cells": [
  {
   "cell_type": "markdown",
   "metadata": {},
   "source": [
    "### Quantum Entanglement with Classiq\n",
    "\n",
    "Entanglement is a key concept for developing quantum algorithms. In this tutorial, we show how to create a Bell state, using a Hadamard gate and a Controlled NOT gate."
   ]
  },
  {
   "cell_type": "code",
   "execution_count": 15,
   "metadata": {},
   "outputs": [
    {
     "name": "stdout",
     "output_type": "stream",
     "text": [
      "Opening: https://platform.classiq.io/circuit/6eb5ffef-80c9-464c-af08-039e6d41f692?version=0.40.0\n"
     ]
    }
   ],
   "source": [
    "from classiq import *\n",
    "\n",
    "\n",
    "@qfunc\n",
    "def create_bell_state(reg: QArray[QBit]) -> None:\n",
    "    H(reg[0])\n",
    "    CX(reg[0], reg[1])\n",
    "\n",
    "\n",
    "@qfunc\n",
    "def main(reg: Output[QArray[QBit]]) -> None:\n",
    "    allocate(2, reg)\n",
    "    create_bell_state(reg)\n",
    "\n",
    "model = create_model(main)\n",
    "write_qmod(model, \"bell_state\")\n",
    "\n",
    "\n",
    "qprog = synthesize(model)\n",
    "\n",
    "circuit = QuantumProgram.from_qprog(qprog)\n",
    "\n",
    "circuit.show()"
   ]
  },
  {
   "cell_type": "markdown",
   "metadata": {},
   "source": [
    "### Mathematical Background\n",
    "\n",
    "First we apply the Hadamard gate to transform the first qubit into a superposition state. The Hadamard gate applied to a single qubit is defined as the 2x2 matrix \\($ H $\\) such that,\n",
    "$$\n",
    "H = \\frac{1}{\\sqrt{2}} \\begin{bmatrix} 1 & 1 \\\\ 1 & -1 \\end{bmatrix}\n",
    "$$.\n",
    "Next we apply the Controlled NOT gate with the first qubit as a control and the second qubit as a target. The Controlled NOT gate will only affect the target qubit by inverting its state if the control qubit is $|1\\rangle$. The controlled not gate applied to a control qubit and a target qubit is defined as the 4x4 matrix \\($ CNOT $\\) such that,\n",
    "$$\n",
    "CNOT = \\begin{bmatrix} 1 & 0 & 0 & 0 \\\\ 0 & 1 & 0 & 0 \\\\ 0 & 0 & 0 & 1 \\\\ 0 & 0 & 1 & 0 \\end{bmatrix}\n",
    "$$.\n",
    "The result is the Bell state \n",
    "$$\n",
    "|\\phi^{+}\\rangle = \\frac{1}{\\sqrt{2}} |00\\rangle + |11\\rangle\n",
    "$$\n"
   ]
  }
 ],
 "metadata": {
  "kernelspec": {
   "display_name": "Python 3",
   "language": "python",
   "name": "python3"
  },
  "language_info": {
   "codemirror_mode": {
    "name": "ipython",
    "version": 3
   },
   "file_extension": ".py",
   "mimetype": "text/x-python",
   "name": "python",
   "nbconvert_exporter": "python",
   "pygments_lexer": "ipython3",
   "version": "3.11.7"
  }
 },
 "nbformat": 4,
 "nbformat_minor": 2
}
